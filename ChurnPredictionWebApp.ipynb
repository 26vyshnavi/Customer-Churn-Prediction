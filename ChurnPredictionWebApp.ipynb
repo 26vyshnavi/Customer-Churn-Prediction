{
 "cells": [
  {
   "cell_type": "code",
   "execution_count": 1,
   "metadata": {},
   "outputs": [
    {
     "name": "stderr",
     "output_type": "stream",
     "text": [
      "C:\\Users\\Vyshnavi\\anaconda\\lib\\site-packages\\pandas\\core\\computation\\expressions.py:20: UserWarning: Pandas requires version '2.7.3' or newer of 'numexpr' (version '2.7.1' currently installed).\n",
      "  from pandas.core.computation.check import NUMEXPR_INSTALLED\n"
     ]
    }
   ],
   "source": [
    "import numpy as np\n",
    "import pandas as pd\n",
    "import matplotlib.pyplot as plt\n",
    "import seaborn as sns\n",
    "import scipy.stats as stats\n",
    "import statistics\n",
    "\n",
    "from sklearn.model_selection import train_test_split\n",
    "from sklearn.tree import DecisionTreeClassifier\n",
    "from sklearn.ensemble import RandomForestClassifier\n",
    "from sklearn.naive_bayes import GaussianNB\n",
    "from sklearn.linear_model import LogisticRegression\n",
    "from sklearn.model_selection import cross_val_score\n",
    "from sklearn.neighbors import KNeighborsClassifier\n",
    "import xgboost as xgb\n",
    "from sklearn.metrics import accuracy_score, precision_score, recall_score,classification_report,confusion_matrix"
   ]
  },
  {
   "cell_type": "code",
   "execution_count": 5,
   "metadata": {},
   "outputs": [
    {
     "data": {
      "text/html": [
       "<div>\n",
       "<style scoped>\n",
       "    .dataframe tbody tr th:only-of-type {\n",
       "        vertical-align: middle;\n",
       "    }\n",
       "\n",
       "    .dataframe tbody tr th {\n",
       "        vertical-align: top;\n",
       "    }\n",
       "\n",
       "    .dataframe thead th {\n",
       "        text-align: right;\n",
       "    }\n",
       "</style>\n",
       "<table border=\"1\" class=\"dataframe\">\n",
       "  <thead>\n",
       "    <tr style=\"text-align: right;\">\n",
       "      <th></th>\n",
       "      <th>RowNumber</th>\n",
       "      <th>CustomerId</th>\n",
       "      <th>Surname</th>\n",
       "      <th>CreditScore</th>\n",
       "      <th>Geography</th>\n",
       "      <th>Gender</th>\n",
       "      <th>Age</th>\n",
       "      <th>Tenure</th>\n",
       "      <th>Balance</th>\n",
       "      <th>NumOfProducts</th>\n",
       "      <th>HasCrCard</th>\n",
       "      <th>IsActiveMember</th>\n",
       "      <th>EstimatedSalary</th>\n",
       "      <th>Exited</th>\n",
       "    </tr>\n",
       "  </thead>\n",
       "  <tbody>\n",
       "    <tr>\n",
       "      <th>0</th>\n",
       "      <td>1</td>\n",
       "      <td>15634602</td>\n",
       "      <td>Hargrave</td>\n",
       "      <td>619</td>\n",
       "      <td>France</td>\n",
       "      <td>Female</td>\n",
       "      <td>42</td>\n",
       "      <td>2</td>\n",
       "      <td>0.00</td>\n",
       "      <td>1</td>\n",
       "      <td>1</td>\n",
       "      <td>1</td>\n",
       "      <td>101348.88</td>\n",
       "      <td>1</td>\n",
       "    </tr>\n",
       "    <tr>\n",
       "      <th>1</th>\n",
       "      <td>2</td>\n",
       "      <td>15647311</td>\n",
       "      <td>Hill</td>\n",
       "      <td>608</td>\n",
       "      <td>Spain</td>\n",
       "      <td>Female</td>\n",
       "      <td>41</td>\n",
       "      <td>1</td>\n",
       "      <td>83807.86</td>\n",
       "      <td>1</td>\n",
       "      <td>0</td>\n",
       "      <td>1</td>\n",
       "      <td>112542.58</td>\n",
       "      <td>0</td>\n",
       "    </tr>\n",
       "    <tr>\n",
       "      <th>2</th>\n",
       "      <td>3</td>\n",
       "      <td>15619304</td>\n",
       "      <td>Onio</td>\n",
       "      <td>502</td>\n",
       "      <td>France</td>\n",
       "      <td>Female</td>\n",
       "      <td>42</td>\n",
       "      <td>8</td>\n",
       "      <td>159660.80</td>\n",
       "      <td>3</td>\n",
       "      <td>1</td>\n",
       "      <td>0</td>\n",
       "      <td>113931.57</td>\n",
       "      <td>1</td>\n",
       "    </tr>\n",
       "    <tr>\n",
       "      <th>3</th>\n",
       "      <td>4</td>\n",
       "      <td>15701354</td>\n",
       "      <td>Boni</td>\n",
       "      <td>699</td>\n",
       "      <td>France</td>\n",
       "      <td>Female</td>\n",
       "      <td>39</td>\n",
       "      <td>1</td>\n",
       "      <td>0.00</td>\n",
       "      <td>2</td>\n",
       "      <td>0</td>\n",
       "      <td>0</td>\n",
       "      <td>93826.63</td>\n",
       "      <td>0</td>\n",
       "    </tr>\n",
       "    <tr>\n",
       "      <th>4</th>\n",
       "      <td>5</td>\n",
       "      <td>15737888</td>\n",
       "      <td>Mitchell</td>\n",
       "      <td>850</td>\n",
       "      <td>Spain</td>\n",
       "      <td>Female</td>\n",
       "      <td>43</td>\n",
       "      <td>2</td>\n",
       "      <td>125510.82</td>\n",
       "      <td>1</td>\n",
       "      <td>1</td>\n",
       "      <td>1</td>\n",
       "      <td>79084.10</td>\n",
       "      <td>0</td>\n",
       "    </tr>\n",
       "  </tbody>\n",
       "</table>\n",
       "</div>"
      ],
      "text/plain": [
       "   RowNumber  CustomerId   Surname  CreditScore Geography  Gender  Age  \\\n",
       "0          1    15634602  Hargrave          619    France  Female   42   \n",
       "1          2    15647311      Hill          608     Spain  Female   41   \n",
       "2          3    15619304      Onio          502    France  Female   42   \n",
       "3          4    15701354      Boni          699    France  Female   39   \n",
       "4          5    15737888  Mitchell          850     Spain  Female   43   \n",
       "\n",
       "   Tenure    Balance  NumOfProducts  HasCrCard  IsActiveMember  \\\n",
       "0       2       0.00              1          1               1   \n",
       "1       1   83807.86              1          0               1   \n",
       "2       8  159660.80              3          1               0   \n",
       "3       1       0.00              2          0               0   \n",
       "4       2  125510.82              1          1               1   \n",
       "\n",
       "   EstimatedSalary  Exited  \n",
       "0        101348.88       1  \n",
       "1        112542.58       0  \n",
       "2        113931.57       1  \n",
       "3         93826.63       0  \n",
       "4         79084.10       0  "
      ]
     },
     "execution_count": 5,
     "metadata": {},
     "output_type": "execute_result"
    }
   ],
   "source": [
    "df = pd.read_csv(\"churn.csv\")\n",
    "df.head()"
   ]
  },
  {
   "cell_type": "code",
   "execution_count": 6,
   "metadata": {},
   "outputs": [
    {
     "data": {
      "text/plain": [
       "(10000, 14)"
      ]
     },
     "execution_count": 6,
     "metadata": {},
     "output_type": "execute_result"
    }
   ],
   "source": [
    "df.shape"
   ]
  },
  {
   "cell_type": "code",
   "execution_count": 7,
   "metadata": {},
   "outputs": [
    {
     "data": {
      "text/plain": [
       "Index(['RowNumber', 'CustomerId', 'Surname', 'CreditScore', 'Geography',\n",
       "       'Gender', 'Age', 'Tenure', 'Balance', 'NumOfProducts', 'HasCrCard',\n",
       "       'IsActiveMember', 'EstimatedSalary', 'Exited'],\n",
       "      dtype='object')"
      ]
     },
     "execution_count": 7,
     "metadata": {},
     "output_type": "execute_result"
    }
   ],
   "source": [
    "df.columns"
   ]
  },
  {
   "cell_type": "code",
   "execution_count": 8,
   "metadata": {},
   "outputs": [
    {
     "name": "stdout",
     "output_type": "stream",
     "text": [
      "<class 'pandas.core.frame.DataFrame'>\n",
      "RangeIndex: 10000 entries, 0 to 9999\n",
      "Data columns (total 14 columns):\n",
      " #   Column           Non-Null Count  Dtype  \n",
      "---  ------           --------------  -----  \n",
      " 0   RowNumber        10000 non-null  int64  \n",
      " 1   CustomerId       10000 non-null  int64  \n",
      " 2   Surname          10000 non-null  object \n",
      " 3   CreditScore      10000 non-null  int64  \n",
      " 4   Geography        10000 non-null  object \n",
      " 5   Gender           10000 non-null  object \n",
      " 6   Age              10000 non-null  int64  \n",
      " 7   Tenure           10000 non-null  int64  \n",
      " 8   Balance          10000 non-null  float64\n",
      " 9   NumOfProducts    10000 non-null  int64  \n",
      " 10  HasCrCard        10000 non-null  int64  \n",
      " 11  IsActiveMember   10000 non-null  int64  \n",
      " 12  EstimatedSalary  10000 non-null  float64\n",
      " 13  Exited           10000 non-null  int64  \n",
      "dtypes: float64(2), int64(9), object(3)\n",
      "memory usage: 1.1+ MB\n"
     ]
    }
   ],
   "source": [
    "df.info()"
   ]
  },
  {
   "cell_type": "code",
   "execution_count": 9,
   "metadata": {},
   "outputs": [
    {
     "data": {
      "text/html": [
       "<div>\n",
       "<style scoped>\n",
       "    .dataframe tbody tr th:only-of-type {\n",
       "        vertical-align: middle;\n",
       "    }\n",
       "\n",
       "    .dataframe tbody tr th {\n",
       "        vertical-align: top;\n",
       "    }\n",
       "\n",
       "    .dataframe thead th {\n",
       "        text-align: right;\n",
       "    }\n",
       "</style>\n",
       "<table border=\"1\" class=\"dataframe\">\n",
       "  <thead>\n",
       "    <tr style=\"text-align: right;\">\n",
       "      <th></th>\n",
       "      <th>count</th>\n",
       "      <th>mean</th>\n",
       "      <th>std</th>\n",
       "      <th>min</th>\n",
       "      <th>25%</th>\n",
       "      <th>50%</th>\n",
       "      <th>75%</th>\n",
       "      <th>max</th>\n",
       "    </tr>\n",
       "  </thead>\n",
       "  <tbody>\n",
       "    <tr>\n",
       "      <th>RowNumber</th>\n",
       "      <td>10000.0</td>\n",
       "      <td>5.000500e+03</td>\n",
       "      <td>2886.895680</td>\n",
       "      <td>1.00</td>\n",
       "      <td>2500.75</td>\n",
       "      <td>5.000500e+03</td>\n",
       "      <td>7.500250e+03</td>\n",
       "      <td>10000.00</td>\n",
       "    </tr>\n",
       "    <tr>\n",
       "      <th>CustomerId</th>\n",
       "      <td>10000.0</td>\n",
       "      <td>1.569094e+07</td>\n",
       "      <td>71936.186123</td>\n",
       "      <td>15565701.00</td>\n",
       "      <td>15628528.25</td>\n",
       "      <td>1.569074e+07</td>\n",
       "      <td>1.575323e+07</td>\n",
       "      <td>15815690.00</td>\n",
       "    </tr>\n",
       "    <tr>\n",
       "      <th>CreditScore</th>\n",
       "      <td>10000.0</td>\n",
       "      <td>6.505288e+02</td>\n",
       "      <td>96.653299</td>\n",
       "      <td>350.00</td>\n",
       "      <td>584.00</td>\n",
       "      <td>6.520000e+02</td>\n",
       "      <td>7.180000e+02</td>\n",
       "      <td>850.00</td>\n",
       "    </tr>\n",
       "    <tr>\n",
       "      <th>Age</th>\n",
       "      <td>10000.0</td>\n",
       "      <td>3.892180e+01</td>\n",
       "      <td>10.487806</td>\n",
       "      <td>18.00</td>\n",
       "      <td>32.00</td>\n",
       "      <td>3.700000e+01</td>\n",
       "      <td>4.400000e+01</td>\n",
       "      <td>92.00</td>\n",
       "    </tr>\n",
       "    <tr>\n",
       "      <th>Tenure</th>\n",
       "      <td>10000.0</td>\n",
       "      <td>5.012800e+00</td>\n",
       "      <td>2.892174</td>\n",
       "      <td>0.00</td>\n",
       "      <td>3.00</td>\n",
       "      <td>5.000000e+00</td>\n",
       "      <td>7.000000e+00</td>\n",
       "      <td>10.00</td>\n",
       "    </tr>\n",
       "    <tr>\n",
       "      <th>Balance</th>\n",
       "      <td>10000.0</td>\n",
       "      <td>7.648589e+04</td>\n",
       "      <td>62397.405202</td>\n",
       "      <td>0.00</td>\n",
       "      <td>0.00</td>\n",
       "      <td>9.719854e+04</td>\n",
       "      <td>1.276442e+05</td>\n",
       "      <td>250898.09</td>\n",
       "    </tr>\n",
       "    <tr>\n",
       "      <th>NumOfProducts</th>\n",
       "      <td>10000.0</td>\n",
       "      <td>1.530200e+00</td>\n",
       "      <td>0.581654</td>\n",
       "      <td>1.00</td>\n",
       "      <td>1.00</td>\n",
       "      <td>1.000000e+00</td>\n",
       "      <td>2.000000e+00</td>\n",
       "      <td>4.00</td>\n",
       "    </tr>\n",
       "    <tr>\n",
       "      <th>HasCrCard</th>\n",
       "      <td>10000.0</td>\n",
       "      <td>7.055000e-01</td>\n",
       "      <td>0.455840</td>\n",
       "      <td>0.00</td>\n",
       "      <td>0.00</td>\n",
       "      <td>1.000000e+00</td>\n",
       "      <td>1.000000e+00</td>\n",
       "      <td>1.00</td>\n",
       "    </tr>\n",
       "    <tr>\n",
       "      <th>IsActiveMember</th>\n",
       "      <td>10000.0</td>\n",
       "      <td>5.151000e-01</td>\n",
       "      <td>0.499797</td>\n",
       "      <td>0.00</td>\n",
       "      <td>0.00</td>\n",
       "      <td>1.000000e+00</td>\n",
       "      <td>1.000000e+00</td>\n",
       "      <td>1.00</td>\n",
       "    </tr>\n",
       "    <tr>\n",
       "      <th>EstimatedSalary</th>\n",
       "      <td>10000.0</td>\n",
       "      <td>1.000902e+05</td>\n",
       "      <td>57510.492818</td>\n",
       "      <td>11.58</td>\n",
       "      <td>51002.11</td>\n",
       "      <td>1.001939e+05</td>\n",
       "      <td>1.493882e+05</td>\n",
       "      <td>199992.48</td>\n",
       "    </tr>\n",
       "    <tr>\n",
       "      <th>Exited</th>\n",
       "      <td>10000.0</td>\n",
       "      <td>2.037000e-01</td>\n",
       "      <td>0.402769</td>\n",
       "      <td>0.00</td>\n",
       "      <td>0.00</td>\n",
       "      <td>0.000000e+00</td>\n",
       "      <td>0.000000e+00</td>\n",
       "      <td>1.00</td>\n",
       "    </tr>\n",
       "  </tbody>\n",
       "</table>\n",
       "</div>"
      ],
      "text/plain": [
       "                   count          mean           std          min  \\\n",
       "RowNumber        10000.0  5.000500e+03   2886.895680         1.00   \n",
       "CustomerId       10000.0  1.569094e+07  71936.186123  15565701.00   \n",
       "CreditScore      10000.0  6.505288e+02     96.653299       350.00   \n",
       "Age              10000.0  3.892180e+01     10.487806        18.00   \n",
       "Tenure           10000.0  5.012800e+00      2.892174         0.00   \n",
       "Balance          10000.0  7.648589e+04  62397.405202         0.00   \n",
       "NumOfProducts    10000.0  1.530200e+00      0.581654         1.00   \n",
       "HasCrCard        10000.0  7.055000e-01      0.455840         0.00   \n",
       "IsActiveMember   10000.0  5.151000e-01      0.499797         0.00   \n",
       "EstimatedSalary  10000.0  1.000902e+05  57510.492818        11.58   \n",
       "Exited           10000.0  2.037000e-01      0.402769         0.00   \n",
       "\n",
       "                         25%           50%           75%          max  \n",
       "RowNumber            2500.75  5.000500e+03  7.500250e+03     10000.00  \n",
       "CustomerId       15628528.25  1.569074e+07  1.575323e+07  15815690.00  \n",
       "CreditScore           584.00  6.520000e+02  7.180000e+02       850.00  \n",
       "Age                    32.00  3.700000e+01  4.400000e+01        92.00  \n",
       "Tenure                  3.00  5.000000e+00  7.000000e+00        10.00  \n",
       "Balance                 0.00  9.719854e+04  1.276442e+05    250898.09  \n",
       "NumOfProducts           1.00  1.000000e+00  2.000000e+00         4.00  \n",
       "HasCrCard               0.00  1.000000e+00  1.000000e+00         1.00  \n",
       "IsActiveMember          0.00  1.000000e+00  1.000000e+00         1.00  \n",
       "EstimatedSalary     51002.11  1.001939e+05  1.493882e+05    199992.48  \n",
       "Exited                  0.00  0.000000e+00  0.000000e+00         1.00  "
      ]
     },
     "execution_count": 9,
     "metadata": {},
     "output_type": "execute_result"
    }
   ],
   "source": [
    "df.describe().T"
   ]
  },
  {
   "cell_type": "code",
   "execution_count": 10,
   "metadata": {},
   "outputs": [
    {
     "data": {
      "text/html": [
       "<div>\n",
       "<style scoped>\n",
       "    .dataframe tbody tr th:only-of-type {\n",
       "        vertical-align: middle;\n",
       "    }\n",
       "\n",
       "    .dataframe tbody tr th {\n",
       "        vertical-align: top;\n",
       "    }\n",
       "\n",
       "    .dataframe thead th {\n",
       "        text-align: right;\n",
       "    }\n",
       "</style>\n",
       "<table border=\"1\" class=\"dataframe\">\n",
       "  <thead>\n",
       "    <tr style=\"text-align: right;\">\n",
       "      <th></th>\n",
       "      <th>count</th>\n",
       "      <th>unique</th>\n",
       "      <th>top</th>\n",
       "      <th>freq</th>\n",
       "    </tr>\n",
       "  </thead>\n",
       "  <tbody>\n",
       "    <tr>\n",
       "      <th>Surname</th>\n",
       "      <td>10000</td>\n",
       "      <td>2932</td>\n",
       "      <td>Smith</td>\n",
       "      <td>32</td>\n",
       "    </tr>\n",
       "    <tr>\n",
       "      <th>Geography</th>\n",
       "      <td>10000</td>\n",
       "      <td>3</td>\n",
       "      <td>France</td>\n",
       "      <td>5014</td>\n",
       "    </tr>\n",
       "    <tr>\n",
       "      <th>Gender</th>\n",
       "      <td>10000</td>\n",
       "      <td>2</td>\n",
       "      <td>Male</td>\n",
       "      <td>5457</td>\n",
       "    </tr>\n",
       "  </tbody>\n",
       "</table>\n",
       "</div>"
      ],
      "text/plain": [
       "           count unique     top  freq\n",
       "Surname    10000   2932   Smith    32\n",
       "Geography  10000      3  France  5014\n",
       "Gender     10000      2    Male  5457"
      ]
     },
     "execution_count": 10,
     "metadata": {},
     "output_type": "execute_result"
    }
   ],
   "source": [
    "df.describe(exclude=np.number).T"
   ]
  },
  {
   "cell_type": "code",
   "execution_count": 11,
   "metadata": {},
   "outputs": [
    {
     "data": {
      "text/plain": [
       "0    79.63\n",
       "1    20.37\n",
       "Name: Exited, dtype: float64"
      ]
     },
     "execution_count": 11,
     "metadata": {},
     "output_type": "execute_result"
    }
   ],
   "source": [
    "#Distribution\n",
    "df['Exited'].value_counts(normalize=True)*100"
   ]
  },
  {
   "cell_type": "code",
   "execution_count": 12,
   "metadata": {},
   "outputs": [
    {
     "data": {
      "image/png": "[encoded data removed]",
      "text/plain": [
       "<Figure size 432x288 with 1 Axes>"
      ]
     },
     "metadata": {
      "needs_background": "light"
     },
     "output_type": "display_data"
    }
   ],
   "source": [
    "#Customer Churn Distribution Plot\n",
    "palette='deep'\n",
    "sns.set_palette(palette)\n",
    "    \n",
    "sns.countplot(data=df, x='Exited')\n",
    "\n",
    "plt.xlabel('Exited')\n",
    "plt.ylabel('Number of Customers')\n",
    "plt.title('Customer Churn Distribution')\n",
    "\n",
    "plt.show()"
   ]
  },
  {
   "cell_type": "code",
   "execution_count": 13,
   "metadata": {},
   "outputs": [
    {
     "data": {
      "text/plain": [
       "France     50.14\n",
       "Germany    25.09\n",
       "Spain      24.77\n",
       "Name: Geography, dtype: float64"
      ]
     },
     "execution_count": 13,
     "metadata": {},
     "output_type": "execute_result"
    }
   ],
   "source": [
    "#Distribution\n",
    "df['Geography'].value_counts(normalize=True)*100"
   ]
  },
  {
   "cell_type": "code",
   "execution_count": 14,
   "metadata": {},
   "outputs": [
    {
     "data": {
      "text/plain": [
       "Geography  Exited\n",
       "France     0         83.845233\n",
       "           1         16.154767\n",
       "Germany    0         67.556796\n",
       "           1         32.443204\n",
       "Spain      0         83.326605\n",
       "           1         16.673395\n",
       "Name: Exited, dtype: float64"
      ]
     },
     "execution_count": 14,
     "metadata": {},
     "output_type": "execute_result"
    }
   ],
   "source": [
    "#Distribution of Customer Churn in different Geographies\n",
    "df.groupby('Geography')['Exited'].value_counts(normalize=True).mul(100)"
   ]
  },
  {
   "cell_type": "code",
   "execution_count": 15,
   "metadata": {},
   "outputs": [
    {
     "data": {
      "image/png": "[encoded data removed]",
      "text/plain": [
       "<Figure size 432x288 with 1 Axes>"
      ]
     },
     "metadata": {
      "needs_background": "light"
     },
     "output_type": "display_data"
    }
   ],
   "source": [
    "#Plot\n",
    "palette = \"deep\" \n",
    "sns.set_palette(palette)\n",
    "\n",
    "pd.crosstab(df['Geography'], df['Exited']).plot(kind='bar', stacked=True)\n",
    "    \n",
    "plt.xlabel('Geography')\n",
    "plt.ylabel('Number of Customers')\n",
    "plt.title('Geography & Customer Churn Distribution')\n",
    "\n",
    "plt.show()"
   ]
  },
  {
   "cell_type": "code",
   "execution_count": 16,
   "metadata": {},
   "outputs": [
    {
     "data": {
      "text/plain": [
       "Male      54.57\n",
       "Female    45.43\n",
       "Name: Gender, dtype: float64"
      ]
     },
     "execution_count": 16,
     "metadata": {},
     "output_type": "execute_result"
    }
   ],
   "source": [
    "#Distribution\n",
    "df['Gender'].value_counts(normalize=True)*100"
   ]
  },
  {
   "cell_type": "code",
   "execution_count": 17,
   "metadata": {},
   "outputs": [
    {
     "data": {
      "text/plain": [
       "Gender  Exited\n",
       "Female  0         74.928461\n",
       "        1         25.071539\n",
       "Male    0         83.544072\n",
       "        1         16.455928\n",
       "Name: Exited, dtype: float64"
      ]
     },
     "execution_count": 17,
     "metadata": {},
     "output_type": "execute_result"
    }
   ],
   "source": [
    "#Distribution of Customer Churn between genders\n",
    "df.groupby('Gender')['Exited'].value_counts(normalize=True).mul(100)"
   ]
  },
  {
   "cell_type": "code",
   "execution_count": 18,
   "metadata": {},
   "outputs": [
    {
     "data": {
      "image/png": "[encoded data removed]",
      "text/plain": [
       "<Figure size 432x288 with 1 Axes>"
      ]
     },
     "metadata": {
      "needs_background": "light"
     },
     "output_type": "display_data"
    }
   ],
   "source": [
    "#Plot\n",
    "palette = \"deep\" \n",
    "sns.set_palette(palette)\n",
    "\n",
    "pd.crosstab(df['Gender'], df['Exited']).plot(kind='bar', stacked=True)\n",
    "    \n",
    "plt.xlabel('Gender')\n",
    "plt.ylabel('Number of Customers')\n",
    "plt.title('Gender & Customer Churn Distribution')\n",
    "\n",
    "plt.show()"
   ]
  },
  {
   "cell_type": "code",
   "execution_count": 19,
   "metadata": {},
   "outputs": [
    {
     "name": "stdout",
     "output_type": "stream",
     "text": [
      "count    10000.000000\n",
      "mean         5.012800\n",
      "std          2.892174\n",
      "min          0.000000\n",
      "25%          3.000000\n",
      "50%          5.000000\n",
      "75%          7.000000\n",
      "max         10.000000\n",
      "Name: Tenure, dtype: float64\n",
      "\n",
      "---------------------\n",
      "\n",
      "0      4.13\n",
      "1     10.35\n",
      "2     10.48\n",
      "3     10.09\n",
      "4      9.89\n",
      "5     10.12\n",
      "6      9.67\n",
      "7     10.28\n",
      "8     10.25\n",
      "9      9.84\n",
      "10     4.90\n",
      "Name: Tenure, dtype: float64\n"
     ]
    }
   ],
   "source": [
    "#Distribution of Tenure\n",
    "print(df['Tenure'].describe())\n",
    "print(\"\\n---------------------\\n\")\n",
    "print(df['Tenure'].value_counts(normalize=True).mul(100).sort_index())"
   ]
  },
  {
   "cell_type": "code",
   "execution_count": 20,
   "metadata": {},
   "outputs": [
    {
     "data": {
      "image/png": "[encoded data removed]",
      "text/plain": [
       "<Figure size 432x288 with 1 Axes>"
      ]
     },
     "metadata": {
      "needs_background": "light"
     },
     "output_type": "display_data"
    }
   ],
   "source": [
    "#Plot\n",
    "palette = \"deep\" \n",
    "sns.set_palette(palette)\n",
    "\n",
    "pd.crosstab(df['Tenure'], df['Exited']).plot(kind='bar', stacked=True)\n",
    "    \n",
    "plt.xlabel('Tenure')\n",
    "plt.ylabel('Number of Customers')\n",
    "plt.title('Tenure & Customer Churn Distribution')\n",
    "\n",
    "plt.show()"
   ]
  },
  {
   "cell_type": "code",
   "execution_count": 21,
   "metadata": {},
   "outputs": [
    {
     "name": "stdout",
     "output_type": "stream",
     "text": [
      "count    10000.000000\n",
      "mean         1.530200\n",
      "std          0.581654\n",
      "min          1.000000\n",
      "25%          1.000000\n",
      "50%          1.000000\n",
      "75%          2.000000\n",
      "max          4.000000\n",
      "Name: NumOfProducts, dtype: float64\n",
      "\n",
      "---------------------\n",
      "\n",
      "1    5084\n",
      "2    4590\n",
      "3     266\n",
      "4      60\n",
      "Name: NumOfProducts, dtype: int64\n",
      "\n",
      "---------------------\n",
      "\n",
      "NumOfProducts  Exited\n",
      "1              0          72.29\n",
      "               1          27.71\n",
      "2              0          92.42\n",
      "               1           7.58\n",
      "3              1          82.71\n",
      "               0          17.29\n",
      "4              1         100.00\n",
      "Name: Exited, dtype: float64\n"
     ]
    }
   ],
   "source": [
    "#Distribution of NumOfProducts\n",
    "print(df['NumOfProducts'].describe())\n",
    "print(\"\\n---------------------\\n\")\n",
    "print(df['NumOfProducts'].value_counts().sort_index())\n",
    "print(\"\\n---------------------\\n\")\n",
    "print(round(df.groupby('NumOfProducts')['Exited'].value_counts(normalize=True).mul(100),2))"
   ]
  },
  {
   "cell_type": "code",
   "execution_count": 22,
   "metadata": {},
   "outputs": [
    {
     "data": {
      "image/png": "[encoded data removed]",
      "text/plain": [
       "<Figure size 432x288 with 1 Axes>"
      ]
     },
     "metadata": {
      "needs_background": "light"
     },
     "output_type": "display_data"
    }
   ],
   "source": [
    "#Plot\n",
    "palette = \"deep\" \n",
    "sns.set_palette(palette)\n",
    "\n",
    "pd.crosstab(df['NumOfProducts'], df['Exited']).plot(kind='bar', stacked=True)\n",
    "    \n",
    "plt.xlabel('Number Of Products')\n",
    "plt.ylabel('Number of Customers')\n",
    "plt.title('Number Of Products & Customer Churn Distribution')\n",
    "\n",
    "plt.show()"
   ]
  },
  {
   "cell_type": "code",
   "execution_count": 23,
   "metadata": {},
   "outputs": [
    {
     "name": "stdout",
     "output_type": "stream",
     "text": [
      "count    10000.00000\n",
      "mean         0.70550\n",
      "std          0.45584\n",
      "min          0.00000\n",
      "25%          0.00000\n",
      "50%          1.00000\n",
      "75%          1.00000\n",
      "max          1.00000\n",
      "Name: HasCrCard, dtype: float64\n",
      "\n",
      "---------------------\n",
      "\n",
      "0    2945\n",
      "1    7055\n",
      "Name: HasCrCard, dtype: int64\n",
      "\n",
      "---------------------\n",
      "\n",
      "HasCrCard  Exited\n",
      "0          0         79.19\n",
      "           1         20.81\n",
      "1          0         79.82\n",
      "           1         20.18\n",
      "Name: Exited, dtype: float64\n"
     ]
    }
   ],
   "source": [
    "#Distribution of HasCrCard\n",
    "print(df['HasCrCard'].describe())\n",
    "print(\"\\n---------------------\\n\")\n",
    "print(df['HasCrCard'].value_counts().sort_index())\n",
    "print(\"\\n---------------------\\n\")\n",
    "print(round(df.groupby('HasCrCard')['Exited'].value_counts(normalize=True).mul(100),2))"
   ]
  },
  {
   "cell_type": "code",
   "execution_count": 24,
   "metadata": {},
   "outputs": [
    {
     "data": {
      "image/png": "[encoded data removed]",
      "text/plain": [
       "<Figure size 432x288 with 1 Axes>"
      ]
     },
     "metadata": {
      "needs_background": "light"
     },
     "output_type": "display_data"
    }
   ],
   "source": [
    "#Plot\n",
    "palette = \"deep\" \n",
    "sns.set_palette(palette)\n",
    "\n",
    "pd.crosstab(df['HasCrCard'], df['Exited']).plot(kind='bar', stacked=True)\n",
    "    \n",
    "plt.xlabel('Has Credit Card')\n",
    "plt.ylabel('Number of Customers')\n",
    "plt.title('Has Credit Card & Customer Churn Distribution')\n",
    "\n",
    "plt.show()"
   ]
  },
  {
   "cell_type": "code",
   "execution_count": 25,
   "metadata": {},
   "outputs": [
    {
     "name": "stdout",
     "output_type": "stream",
     "text": [
      "count    10000.000000\n",
      "mean         0.515100\n",
      "std          0.499797\n",
      "min          0.000000\n",
      "25%          0.000000\n",
      "50%          1.000000\n",
      "75%          1.000000\n",
      "max          1.000000\n",
      "Name: IsActiveMember, dtype: float64\n",
      "\n",
      "---------------------\n",
      "\n",
      "0    4849\n",
      "1    5151\n",
      "Name: IsActiveMember, dtype: int64\n",
      "\n",
      "---------------------\n",
      "\n",
      "IsActiveMember  Exited\n",
      "0               0         73.15\n",
      "                1         26.85\n",
      "1               0         85.73\n",
      "                1         14.27\n",
      "Name: Exited, dtype: float64\n"
     ]
    }
   ],
   "source": [
    "#Distribution of IsActiveMember\n",
    "print(df['IsActiveMember'].describe())\n",
    "print(\"\\n---------------------\\n\")\n",
    "print(df['IsActiveMember'].value_counts().sort_index())\n",
    "print(\"\\n---------------------\\n\")\n",
    "print(round(df.groupby('IsActiveMember')['Exited'].value_counts(normalize=True).mul(100),2))"
   ]
  },
  {
   "cell_type": "code",
   "execution_count": 26,
   "metadata": {},
   "outputs": [
    {
     "data": {
      "image/png": "[encoded data removed]",
      "text/plain": [
       "<Figure size 432x288 with 1 Axes>"
      ]
     },
     "metadata": {
      "needs_background": "light"
     },
     "output_type": "display_data"
    }
   ],
   "source": [
    "palette = \"deep\" \n",
    "sns.set_palette(palette)\n",
    "\n",
    "pd.crosstab(df['IsActiveMember'], df['Exited']).plot(kind='bar', stacked=True)\n",
    "    \n",
    "plt.xlabel('Is Active Member')\n",
    "plt.ylabel('Number of Customers')\n",
    "plt.title('Is Active Member & Customer Churn Distribution')\n",
    "\n",
    "plt.show()"
   ]
  },
  {
   "cell_type": "code",
   "execution_count": 27,
   "metadata": {},
   "outputs": [
    {
     "name": "stdout",
     "output_type": "stream",
     "text": [
      "count    10000.000000\n",
      "mean       650.528800\n",
      "std         96.653299\n",
      "min        350.000000\n",
      "25%        584.000000\n",
      "50%        652.000000\n",
      "75%        718.000000\n",
      "max        850.000000\n",
      "Name: CreditScore, dtype: float64\n",
      "\n",
      "---------------------\n",
      "\n",
      "850    233\n",
      "678     63\n",
      "655     54\n",
      "705     53\n",
      "667     53\n",
      "      ... \n",
      "404      1\n",
      "351      1\n",
      "365      1\n",
      "417      1\n",
      "419      1\n",
      "Name: CreditScore, Length: 460, dtype: int64\n"
     ]
    }
   ],
   "source": [
    "#Distribution of Credit Score\n",
    "print(df['CreditScore'].describe())\n",
    "print(\"\\n---------------------\\n\")\n",
    "print(df['CreditScore'].value_counts())"
   ]
  },
  {
   "cell_type": "code",
   "execution_count": 28,
   "metadata": {},
   "outputs": [
    {
     "data": {
      "image/png": "[encoded data removed]",
      "text/plain": [
       "<Figure size 402.375x360 with 1 Axes>"
      ]
     },
     "metadata": {
      "needs_background": "light"
     },
     "output_type": "display_data"
    }
   ],
   "source": [
    "#Plot\n",
    "palette = \"deep\" \n",
    "sns.set_palette(palette)\n",
    "\n",
    "sns.displot(data=df, x='CreditScore',hue='Exited', kde=True, bins=40)\n",
    "    \n",
    "plt.xlabel('Credit Score')\n",
    "plt.ylabel('Number of Customers')\n",
    "plt.title('Credit Score & Customer Churn Distribution')\n",
    "\n",
    "plt.show()"
   ]
  },
  {
   "cell_type": "code",
   "execution_count": 29,
   "metadata": {},
   "outputs": [
    {
     "name": "stdout",
     "output_type": "stream",
     "text": [
      "count    10000.000000\n",
      "mean        38.921800\n",
      "std         10.487806\n",
      "min         18.000000\n",
      "25%         32.000000\n",
      "50%         37.000000\n",
      "75%         44.000000\n",
      "max         92.000000\n",
      "Name: Age, dtype: float64\n",
      "\n",
      "---------------------\n",
      "\n",
      "37    478\n",
      "38    477\n",
      "35    474\n",
      "36    456\n",
      "34    447\n",
      "     ... \n",
      "92      2\n",
      "82      1\n",
      "88      1\n",
      "85      1\n",
      "83      1\n",
      "Name: Age, Length: 70, dtype: int64\n"
     ]
    }
   ],
   "source": [
    "#Distribution of Age\n",
    "print(df['Age'].describe())\n",
    "print(\"\\n---------------------\\n\")\n",
    "print(df['Age'].value_counts())"
   ]
  },
  {
   "cell_type": "code",
   "execution_count": 30,
   "metadata": {},
   "outputs": [
    {
     "data": {
      "image/png": "[encoded data removed]",
      "text/plain": [
       "<Figure size 360x360 with 1 Axes>"
      ]
     },
     "metadata": {
      "needs_background": "light"
     },
     "output_type": "display_data"
    }
   ],
   "source": [
    "#Plot\n",
    "palette = \"deep\" \n",
    "sns.set_palette(palette)\n",
    "\n",
    "sns.displot(data=df, x='Age', kde=True, bins=37)\n",
    "    \n",
    "plt.xlabel('Age')\n",
    "plt.ylabel('Number of Customers')\n",
    "plt.title('Age Distribution')\n",
    "\n",
    "plt.show()"
   ]
  },
  {
   "cell_type": "code",
   "execution_count": 31,
   "metadata": {},
   "outputs": [
    {
     "data": {
      "image/png": "[encoded data removed]",
      "text/plain": [
       "<Figure size 402.375x360 with 1 Axes>"
      ]
     },
     "metadata": {
      "needs_background": "light"
     },
     "output_type": "display_data"
    }
   ],
   "source": [
    "#Plot\n",
    "palette = \"deep\" \n",
    "sns.set_palette(palette)\n",
    "\n",
    "sns.displot(data=df, x='Age', hue='Exited',kde=True, bins=37)\n",
    "    \n",
    "plt.xlabel('Age')\n",
    "plt.ylabel('Number of Customers')\n",
    "plt.title('Age & Customer Churn Distribution')\n",
    "\n",
    "plt.show()"
   ]
  },
  {
   "cell_type": "code",
   "execution_count": 32,
   "metadata": {},
   "outputs": [
    {
     "name": "stdout",
     "output_type": "stream",
     "text": [
      "count     10000.000000\n",
      "mean      76485.889288\n",
      "std       62397.405202\n",
      "min           0.000000\n",
      "25%           0.000000\n",
      "50%       97198.540000\n",
      "75%      127644.240000\n",
      "max      250898.090000\n",
      "Name: Balance, dtype: float64\n",
      "\n",
      "---------------------\n",
      "\n",
      "0.00         3617\n",
      "3768.69         1\n",
      "12459.19        1\n",
      "14262.80        1\n",
      "16893.59        1\n",
      "             ... \n",
      "216109.88       1\n",
      "221532.80       1\n",
      "222267.63       1\n",
      "238387.56       1\n",
      "250898.09       1\n",
      "Name: Balance, Length: 6382, dtype: int64\n"
     ]
    }
   ],
   "source": [
    "#Distribution of Balance\n",
    "print(df['Balance'].describe())\n",
    "print(\"\\n---------------------\\n\")\n",
    "print(df['Balance'].value_counts().sort_index())"
   ]
  },
  {
   "cell_type": "code",
   "execution_count": 33,
   "metadata": {},
   "outputs": [
    {
     "data": {
      "image/png": "[encoded data removed]",
      "text/plain": [
       "<Figure size 360x360 with 1 Axes>"
      ]
     },
     "metadata": {
      "needs_background": "light"
     },
     "output_type": "display_data"
    }
   ],
   "source": [
    "#Plot\n",
    "palette = \"deep\" \n",
    "sns.set_palette(palette)\n",
    "\n",
    "sns.displot(data=df, x='Balance', kde=True, bins=30)\n",
    "    \n",
    "plt.xlabel('Balance')\n",
    "plt.ylabel('Number of Customers')\n",
    "plt.title('Balance Distribution')\n",
    "\n",
    "plt.show()"
   ]
  },
  {
   "cell_type": "code",
   "execution_count": 34,
   "metadata": {},
   "outputs": [
    {
     "data": {
      "image/png": "[encoded data removed]",
      "text/plain": [
       "<Figure size 402.375x360 with 1 Axes>"
      ]
     },
     "metadata": {
      "needs_background": "light"
     },
     "output_type": "display_data"
    }
   ],
   "source": [
    "#Plot\n",
    "palette = \"deep\" \n",
    "sns.set_palette(palette)\n",
    "\n",
    "sns.displot(data=df, x='Balance', hue='Exited',kde=True, bins=30)\n",
    "    \n",
    "plt.xlabel('Balance')\n",
    "plt.ylabel('Number of Customers')\n",
    "plt.title('Balance & Customer Churn Distribution')\n",
    "\n",
    "plt.show()"
   ]
  },
  {
   "cell_type": "code",
   "execution_count": 35,
   "metadata": {},
   "outputs": [
    {
     "name": "stdout",
     "output_type": "stream",
     "text": [
      "count     10000.000000\n",
      "mean     100090.239881\n",
      "std       57510.492818\n",
      "min          11.580000\n",
      "25%       51002.110000\n",
      "50%      100193.915000\n",
      "75%      149388.247500\n",
      "max      199992.480000\n",
      "Name: EstimatedSalary, dtype: float64\n",
      "\n",
      "---------------------\n",
      "\n",
      "11.58        1\n",
      "90.07        1\n",
      "91.75        1\n",
      "96.27        1\n",
      "106.67       1\n",
      "            ..\n",
      "199909.32    1\n",
      "199929.17    1\n",
      "199953.33    1\n",
      "199970.74    1\n",
      "199992.48    1\n",
      "Name: EstimatedSalary, Length: 9999, dtype: int64\n"
     ]
    }
   ],
   "source": [
    "#Distribution of EstimatedSalary\n",
    "print(df['EstimatedSalary'].describe())\n",
    "print(\"\\n---------------------\\n\")\n",
    "print(df['EstimatedSalary'].value_counts().sort_index())"
   ]
  },
  {
   "cell_type": "code",
   "execution_count": 36,
   "metadata": {},
   "outputs": [
    {
     "data": {
      "image/png": "[encoded data removed]",
      "text/plain": [
       "<Figure size 360x360 with 1 Axes>"
      ]
     },
     "metadata": {
      "needs_background": "light"
     },
     "output_type": "display_data"
    }
   ],
   "source": [
    "#Plot\n",
    "palette = \"deep\" \n",
    "sns.set_palette(palette)\n",
    "\n",
    "sns.displot(data=df, x='EstimatedSalary', kde=True, bins=40)\n",
    "    \n",
    "plt.xlabel('EstimatedSalary')\n",
    "plt.ylabel('Number of Customers')\n",
    "plt.title('Estimated Salary Distribution')\n",
    "plt.xticks(rotation=45)\n",
    "\n",
    "plt.show()"
   ]
  },
  {
   "cell_type": "code",
   "execution_count": 37,
   "metadata": {},
   "outputs": [
    {
     "data": {
      "image/png": "[encoded data removed]",
      "text/plain": [
       "<Figure size 402.375x360 with 1 Axes>"
      ]
     },
     "metadata": {
      "needs_background": "light"
     },
     "output_type": "display_data"
    }
   ],
   "source": [
    "#Plot\n",
    "palette = \"deep\" \n",
    "sns.set_palette(palette)\n",
    "\n",
    "sns.displot(data=df, x='EstimatedSalary',hue='Exited', kde=True, bins=40)\n",
    "    \n",
    "plt.xlabel('EstimatedSalary')\n",
    "plt.ylabel('Number of Customers')\n",
    "plt.title('Estimated Salary & Customer Churn Distribution')\n",
    "plt.xticks(rotation=45)\n",
    "\n",
    "plt.show()"
   ]
  },
  {
   "cell_type": "code",
   "execution_count": 38,
   "metadata": {},
   "outputs": [
    {
     "name": "stdout",
     "output_type": "stream",
     "text": [
      "Size of Dataset before dropping columns :  (10000, 14)\n",
      "Size of Dataset after dropping columns :  (10000, 11)\n"
     ]
    }
   ],
   "source": [
    "print(\"Size of Dataset before dropping columns : \",df.shape)\n",
    "drop_columns = ['RowNumber','CustomerId','Surname']\n",
    "df.drop(drop_columns,axis=1,inplace=True)\n",
    "print(\"Size of Dataset after dropping columns : \",df.shape)"
   ]
  },
  {
   "cell_type": "code",
   "execution_count": 39,
   "metadata": {},
   "outputs": [],
   "source": [
    "categorical_columns = ['Geography','Gender']\n",
    "\n",
    "# Perform one-hot encoding\n",
    "one_hot_encoded = pd.get_dummies(df[categorical_columns])\n",
    "\n",
    "# Concatenate the one-hot encoded columns to the original dataframe\n",
    "df_encoded = pd.concat([df, one_hot_encoded], axis=1)\n",
    "\n",
    "#Drop original categorical columns\n",
    "df_encoded.drop(categorical_columns,axis=1,inplace=True)"
   ]
  },
  {
   "cell_type": "code",
   "execution_count": 40,
   "metadata": {},
   "outputs": [
    {
     "data": {
      "text/html": [
       "<div>\n",
       "<style scoped>\n",
       "    .dataframe tbody tr th:only-of-type {\n",
       "        vertical-align: middle;\n",
       "    }\n",
       "\n",
       "    .dataframe tbody tr th {\n",
       "        vertical-align: top;\n",
       "    }\n",
       "\n",
       "    .dataframe thead th {\n",
       "        text-align: right;\n",
       "    }\n",
       "</style>\n",
       "<table border=\"1\" class=\"dataframe\">\n",
       "  <thead>\n",
       "    <tr style=\"text-align: right;\">\n",
       "      <th></th>\n",
       "      <th>CreditScore</th>\n",
       "      <th>Age</th>\n",
       "      <th>Tenure</th>\n",
       "      <th>Balance</th>\n",
       "      <th>NumOfProducts</th>\n",
       "      <th>HasCrCard</th>\n",
       "      <th>IsActiveMember</th>\n",
       "      <th>EstimatedSalary</th>\n",
       "      <th>Exited</th>\n",
       "      <th>Geography_France</th>\n",
       "      <th>Geography_Germany</th>\n",
       "      <th>Geography_Spain</th>\n",
       "      <th>Gender_Female</th>\n",
       "      <th>Gender_Male</th>\n",
       "    </tr>\n",
       "  </thead>\n",
       "  <tbody>\n",
       "    <tr>\n",
       "      <th>0</th>\n",
       "      <td>619</td>\n",
       "      <td>42</td>\n",
       "      <td>2</td>\n",
       "      <td>0.00</td>\n",
       "      <td>1</td>\n",
       "      <td>1</td>\n",
       "      <td>1</td>\n",
       "      <td>101348.88</td>\n",
       "      <td>1</td>\n",
       "      <td>1</td>\n",
       "      <td>0</td>\n",
       "      <td>0</td>\n",
       "      <td>1</td>\n",
       "      <td>0</td>\n",
       "    </tr>\n",
       "    <tr>\n",
       "      <th>1</th>\n",
       "      <td>608</td>\n",
       "      <td>41</td>\n",
       "      <td>1</td>\n",
       "      <td>83807.86</td>\n",
       "      <td>1</td>\n",
       "      <td>0</td>\n",
       "      <td>1</td>\n",
       "      <td>112542.58</td>\n",
       "      <td>0</td>\n",
       "      <td>0</td>\n",
       "      <td>0</td>\n",
       "      <td>1</td>\n",
       "      <td>1</td>\n",
       "      <td>0</td>\n",
       "    </tr>\n",
       "    <tr>\n",
       "      <th>2</th>\n",
       "      <td>502</td>\n",
       "      <td>42</td>\n",
       "      <td>8</td>\n",
       "      <td>159660.80</td>\n",
       "      <td>3</td>\n",
       "      <td>1</td>\n",
       "      <td>0</td>\n",
       "      <td>113931.57</td>\n",
       "      <td>1</td>\n",
       "      <td>1</td>\n",
       "      <td>0</td>\n",
       "      <td>0</td>\n",
       "      <td>1</td>\n",
       "      <td>0</td>\n",
       "    </tr>\n",
       "    <tr>\n",
       "      <th>3</th>\n",
       "      <td>699</td>\n",
       "      <td>39</td>\n",
       "      <td>1</td>\n",
       "      <td>0.00</td>\n",
       "      <td>2</td>\n",
       "      <td>0</td>\n",
       "      <td>0</td>\n",
       "      <td>93826.63</td>\n",
       "      <td>0</td>\n",
       "      <td>1</td>\n",
       "      <td>0</td>\n",
       "      <td>0</td>\n",
       "      <td>1</td>\n",
       "      <td>0</td>\n",
       "    </tr>\n",
       "    <tr>\n",
       "      <th>4</th>\n",
       "      <td>850</td>\n",
       "      <td>43</td>\n",
       "      <td>2</td>\n",
       "      <td>125510.82</td>\n",
       "      <td>1</td>\n",
       "      <td>1</td>\n",
       "      <td>1</td>\n",
       "      <td>79084.10</td>\n",
       "      <td>0</td>\n",
       "      <td>0</td>\n",
       "      <td>0</td>\n",
       "      <td>1</td>\n",
       "      <td>1</td>\n",
       "      <td>0</td>\n",
       "    </tr>\n",
       "  </tbody>\n",
       "</table>\n",
       "</div>"
      ],
      "text/plain": [
       "   CreditScore  Age  Tenure    Balance  NumOfProducts  HasCrCard  \\\n",
       "0          619   42       2       0.00              1          1   \n",
       "1          608   41       1   83807.86              1          0   \n",
       "2          502   42       8  159660.80              3          1   \n",
       "3          699   39       1       0.00              2          0   \n",
       "4          850   43       2  125510.82              1          1   \n",
       "\n",
       "   IsActiveMember  EstimatedSalary  Exited  Geography_France  \\\n",
       "0               1        101348.88       1                 1   \n",
       "1               1        112542.58       0                 0   \n",
       "2               0        113931.57       1                 1   \n",
       "3               0         93826.63       0                 1   \n",
       "4               1         79084.10       0                 0   \n",
       "\n",
       "   Geography_Germany  Geography_Spain  Gender_Female  Gender_Male  \n",
       "0                  0                0              1            0  \n",
       "1                  0                1              1            0  \n",
       "2                  0                0              1            0  \n",
       "3                  0                0              1            0  \n",
       "4                  0                1              1            0  "
      ]
     },
     "execution_count": 40,
     "metadata": {},
     "output_type": "execute_result"
    }
   ],
   "source": [
    "df_encoded.head()"
   ]
  },
  {
   "cell_type": "code",
   "execution_count": 41,
   "metadata": {},
   "outputs": [
    {
     "data": {
      "text/html": [
       "<div>\n",
       "<style scoped>\n",
       "    .dataframe tbody tr th:only-of-type {\n",
       "        vertical-align: middle;\n",
       "    }\n",
       "\n",
       "    .dataframe tbody tr th {\n",
       "        vertical-align: top;\n",
       "    }\n",
       "\n",
       "    .dataframe thead th {\n",
       "        text-align: right;\n",
       "    }\n",
       "</style>\n",
       "<table border=\"1\" class=\"dataframe\">\n",
       "  <thead>\n",
       "    <tr style=\"text-align: right;\">\n",
       "      <th></th>\n",
       "      <th>CreditScore</th>\n",
       "      <th>Age</th>\n",
       "      <th>Tenure</th>\n",
       "      <th>Balance</th>\n",
       "      <th>NumOfProducts</th>\n",
       "      <th>HasCrCard</th>\n",
       "      <th>IsActiveMember</th>\n",
       "      <th>EstimatedSalary</th>\n",
       "      <th>Exited</th>\n",
       "      <th>Geography_France</th>\n",
       "      <th>Geography_Germany</th>\n",
       "      <th>Geography_Spain</th>\n",
       "      <th>Gender_Female</th>\n",
       "      <th>Gender_Male</th>\n",
       "    </tr>\n",
       "  </thead>\n",
       "  <tbody>\n",
       "    <tr>\n",
       "      <th>0</th>\n",
       "      <td>0.538</td>\n",
       "      <td>0.324324</td>\n",
       "      <td>0.2</td>\n",
       "      <td>0.000000</td>\n",
       "      <td>0.000000</td>\n",
       "      <td>1</td>\n",
       "      <td>1</td>\n",
       "      <td>0.506735</td>\n",
       "      <td>1</td>\n",
       "      <td>1</td>\n",
       "      <td>0</td>\n",
       "      <td>0</td>\n",
       "      <td>1</td>\n",
       "      <td>0</td>\n",
       "    </tr>\n",
       "    <tr>\n",
       "      <th>1</th>\n",
       "      <td>0.516</td>\n",
       "      <td>0.310811</td>\n",
       "      <td>0.1</td>\n",
       "      <td>0.334031</td>\n",
       "      <td>0.000000</td>\n",
       "      <td>0</td>\n",
       "      <td>1</td>\n",
       "      <td>0.562709</td>\n",
       "      <td>0</td>\n",
       "      <td>0</td>\n",
       "      <td>0</td>\n",
       "      <td>1</td>\n",
       "      <td>1</td>\n",
       "      <td>0</td>\n",
       "    </tr>\n",
       "    <tr>\n",
       "      <th>2</th>\n",
       "      <td>0.304</td>\n",
       "      <td>0.324324</td>\n",
       "      <td>0.8</td>\n",
       "      <td>0.636357</td>\n",
       "      <td>0.666667</td>\n",
       "      <td>1</td>\n",
       "      <td>0</td>\n",
       "      <td>0.569654</td>\n",
       "      <td>1</td>\n",
       "      <td>1</td>\n",
       "      <td>0</td>\n",
       "      <td>0</td>\n",
       "      <td>1</td>\n",
       "      <td>0</td>\n",
       "    </tr>\n",
       "    <tr>\n",
       "      <th>3</th>\n",
       "      <td>0.698</td>\n",
       "      <td>0.283784</td>\n",
       "      <td>0.1</td>\n",
       "      <td>0.000000</td>\n",
       "      <td>0.333333</td>\n",
       "      <td>0</td>\n",
       "      <td>0</td>\n",
       "      <td>0.469120</td>\n",
       "      <td>0</td>\n",
       "      <td>1</td>\n",
       "      <td>0</td>\n",
       "      <td>0</td>\n",
       "      <td>1</td>\n",
       "      <td>0</td>\n",
       "    </tr>\n",
       "    <tr>\n",
       "      <th>4</th>\n",
       "      <td>1.000</td>\n",
       "      <td>0.337838</td>\n",
       "      <td>0.2</td>\n",
       "      <td>0.500246</td>\n",
       "      <td>0.000000</td>\n",
       "      <td>1</td>\n",
       "      <td>1</td>\n",
       "      <td>0.395400</td>\n",
       "      <td>0</td>\n",
       "      <td>0</td>\n",
       "      <td>0</td>\n",
       "      <td>1</td>\n",
       "      <td>1</td>\n",
       "      <td>0</td>\n",
       "    </tr>\n",
       "  </tbody>\n",
       "</table>\n",
       "</div>"
      ],
      "text/plain": [
       "   CreditScore       Age  Tenure   Balance  NumOfProducts  HasCrCard  \\\n",
       "0        0.538  0.324324     0.2  0.000000       0.000000          1   \n",
       "1        0.516  0.310811     0.1  0.334031       0.000000          0   \n",
       "2        0.304  0.324324     0.8  0.636357       0.666667          1   \n",
       "3        0.698  0.283784     0.1  0.000000       0.333333          0   \n",
       "4        1.000  0.337838     0.2  0.500246       0.000000          1   \n",
       "\n",
       "   IsActiveMember  EstimatedSalary  Exited  Geography_France  \\\n",
       "0               1         0.506735       1                 1   \n",
       "1               1         0.562709       0                 0   \n",
       "2               0         0.569654       1                 1   \n",
       "3               0         0.469120       0                 1   \n",
       "4               1         0.395400       0                 0   \n",
       "\n",
       "   Geography_Germany  Geography_Spain  Gender_Female  Gender_Male  \n",
       "0                  0                0              1            0  \n",
       "1                  0                1              1            0  \n",
       "2                  0                0              1            0  \n",
       "3                  0                0              1            0  \n",
       "4                  0                1              1            0  "
      ]
     },
     "execution_count": 41,
     "metadata": {},
     "output_type": "execute_result"
    }
   ],
   "source": [
    "continuous_columns = ['CreditScore','Age','Tenure','Balance','NumOfProducts','EstimatedSalary']\n",
    "from sklearn.preprocessing import MinMaxScaler\n",
    "scaler = MinMaxScaler()\n",
    "df_encoded[continuous_columns] = scaler.fit_transform(df_encoded[continuous_columns])\n",
    "\n",
    "df_encoded.head()"
   ]
  },
  {
   "cell_type": "code",
   "execution_count": 42,
   "metadata": {},
   "outputs": [],
   "source": [
    "#Method to evaluate the performance of the model\n",
    "def evaluate_model(y_test,y_pred):\n",
    "    print(\"Classification Report\")\n",
    "    print(classification_report(y_test, y_pred))\n",
    "    \n",
    "    print(\"\\n---------------------------------------------\\n\")\n",
    "    # Compute confusion matrix\n",
    "    cm = confusion_matrix(y_test, y_pred)\n",
    "\n",
    "    # Create a heatmap of the confusion matrix using Seaborn\n",
    "    sns.heatmap(cm, annot=True, cmap='Greens',fmt='.0f')\n",
    "\n",
    "    plt.xlabel('Predicted Labels')\n",
    "    plt.ylabel('True Labels')\n",
    "    plt.title('Confusion Matrix')\n",
    "\n",
    "    plt.show()"
   ]
  },
  {
   "cell_type": "code",
   "execution_count": 43,
   "metadata": {},
   "outputs": [
    {
     "name": "stdout",
     "output_type": "stream",
     "text": [
      "(8000, 13)\n",
      "(2000, 13)\n",
      "(8000,)\n",
      "(2000,)\n"
     ]
    }
   ],
   "source": [
    "#Train Test Split\n",
    "X = df_encoded.drop('Exited',axis=1)\n",
    "y = df_encoded['Exited']\n",
    "\n",
    "X_train, X_test, y_train, y_test = train_test_split(X, y, test_size=0.2, random_state=17,stratify=y)\n",
    "print(X_train.shape)\n",
    "print(X_test.shape)\n",
    "print(y_train.shape)\n",
    "print(y_test.shape)"
   ]
  },
  {
   "cell_type": "code",
   "execution_count": 44,
   "metadata": {},
   "outputs": [
    {
     "name": "stdout",
     "output_type": "stream",
     "text": [
      "Classifier: Logistic Regression\n",
      "Average Accuracy: 0.8139\n",
      "Average Precision: 0.7269\n",
      "Average Recall: 0.5928\n",
      "-----------------------\n",
      "Classifier: Decision Tree\n",
      "Average Accuracy: 0.7907\n",
      "Average Precision: 0.6841\n",
      "Average Recall: 0.6895\n",
      "-----------------------\n",
      "Classifier: Random Forest\n",
      "Average Accuracy: 0.8606\n",
      "Average Precision: 0.8202\n",
      "Average Recall: 0.7113\n",
      "-----------------------\n",
      "Classifier: KNN\n",
      "Average Accuracy: 0.8120\n",
      "Average Precision: 0.7086\n",
      "Average Recall: 0.6158\n",
      "-----------------------\n",
      "Classifier: Gaussion NB\n",
      "Average Accuracy: 0.8189\n",
      "Average Precision: 0.7218\n",
      "Average Recall: 0.6550\n",
      "-----------------------\n",
      "Classifier: XGB\n",
      "Average Accuracy: 0.8492\n",
      "Average Precision: 0.7795\n",
      "Average Recall: 0.7157\n",
      "-----------------------\n"
     ]
    }
   ],
   "source": [
    "# List of classifiers to test\n",
    "classifiers = [\n",
    "    ('Logistic Regression', LogisticRegression()),\n",
    "    ('Decision Tree', DecisionTreeClassifier()),\n",
    "    ('Random Forest', RandomForestClassifier()),\n",
    "    ('KNN', KNeighborsClassifier(n_neighbors=5)),\n",
    "    ('Gaussion NB',GaussianNB()),\n",
    "    ('XGB',xgb.XGBClassifier())\n",
    "]\n",
    "\n",
    "# Iterate over each classifier and evaluate performance\n",
    "for clf_name, clf in classifiers:\n",
    "    # Perform cross-validation\n",
    "    scores = cross_val_score(clf, X_train, y_train, cv=5, scoring='accuracy')\n",
    "    \n",
    "    # Calculate average performance metrics\n",
    "    avg_accuracy = scores.mean()\n",
    "    avg_precision = cross_val_score(clf, X_train, y_train, cv=5, scoring='precision_macro').mean()\n",
    "    avg_recall = cross_val_score(clf, X_train, y_train, cv=5, scoring='recall_macro').mean()\n",
    "    \n",
    "    # Print the performance metrics\n",
    "    print(f'Classifier: {clf_name}')\n",
    "    print(f'Average Accuracy: {avg_accuracy:.4f}')\n",
    "    print(f'Average Precision: {avg_precision:.4f}')\n",
    "    print(f'Average Recall: {avg_recall:.4f}')\n",
    "    print('-----------------------')"
   ]
  },
  {
   "cell_type": "code",
   "execution_count": 45,
   "metadata": {},
   "outputs": [
    {
     "name": "stdout",
     "output_type": "stream",
     "text": [
      "Classification Report\n",
      "              precision    recall  f1-score   support\n",
      "\n",
      "           0       0.87      0.96      0.92      1593\n",
      "           1       0.76      0.44      0.56       407\n",
      "\n",
      "    accuracy                           0.86      2000\n",
      "   macro avg       0.81      0.70      0.74      2000\n",
      "weighted avg       0.85      0.86      0.84      2000\n",
      "\n",
      "\n",
      "---------------------------------------------\n",
      "\n"
     ]
    },
    {
     "data": {
      "image/png": "[encoded data removed]",
      "text/plain": [
       "<Figure size 432x288 with 2 Axes>"
      ]
     },
     "metadata": {
      "needs_background": "light"
     },
     "output_type": "display_data"
    }
   ],
   "source": [
    "# Creating the Random Forest classifier\n",
    "rf_classifier = RandomForestClassifier(n_estimators=100, random_state=42)\n",
    "\n",
    "# Training the classifier\n",
    "rf_classifier.fit(X_train, y_train)\n",
    "\n",
    "# Making predictions on the test set\n",
    "y_pred = rf_classifier.predict(X_test)\n",
    "\n",
    "# Evaluating the model\n",
    "evaluate_model(y_test, y_pred)"
   ]
  },
  {
   "cell_type": "code",
   "execution_count": 46,
   "metadata": {},
   "outputs": [
    {
     "data": {
      "text/plain": [
       "1    7963\n",
       "0    7963\n",
       "Name: Exited, dtype: int64"
      ]
     },
     "execution_count": 46,
     "metadata": {},
     "output_type": "execute_result"
    }
   ],
   "source": [
    "from imblearn.over_sampling import SMOTE\n",
    "\n",
    "smote = SMOTE(sampling_strategy='minority')\n",
    "X_sm, y_sm = smote.fit_resample(X, y)\n",
    "\n",
    "y_sm.value_counts()"
   ]
  },
  {
   "cell_type": "code",
   "execution_count": 47,
   "metadata": {},
   "outputs": [
    {
     "name": "stdout",
     "output_type": "stream",
     "text": [
      "(12740, 13)\n",
      "(3186, 13)\n",
      "(12740,)\n",
      "(3186,)\n"
     ]
    }
   ],
   "source": [
    "X_train, X_test, y_train, y_test = train_test_split(X_sm, y_sm, test_size=0.2, random_state=15, stratify=y_sm)\n",
    "\n",
    "print(X_train.shape)\n",
    "print(X_test.shape)\n",
    "print(y_train.shape)\n",
    "print(y_test.shape)"
   ]
  },
  {
   "cell_type": "code",
   "execution_count": 48,
   "metadata": {},
   "outputs": [
    {
     "name": "stdout",
     "output_type": "stream",
     "text": [
      "Classifier: Logistic Regression\n",
      "Average Accuracy: 0.7135\n",
      "Average Precision: 0.7136\n",
      "Average Recall: 0.7135\n",
      "-----------------------\n",
      "Classifier: Decision Tree\n",
      "Average Accuracy: 0.8237\n",
      "Average Precision: 0.8289\n",
      "Average Recall: 0.8266\n",
      "-----------------------\n",
      "Classifier: Random Forest\n",
      "Average Accuracy: 0.8885\n",
      "Average Precision: 0.8884\n",
      "Average Recall: 0.8877\n",
      "-----------------------\n",
      "Classifier: KNN\n",
      "Average Accuracy: 0.8232\n",
      "Average Precision: 0.8338\n",
      "Average Recall: 0.8232\n",
      "-----------------------\n",
      "Classifier: Gaussion NB\n",
      "Average Accuracy: 0.7141\n",
      "Average Precision: 0.7155\n",
      "Average Recall: 0.7141\n",
      "-----------------------\n",
      "Classifier: XGB\n",
      "Average Accuracy: 0.8940\n",
      "Average Precision: 0.8950\n",
      "Average Recall: 0.8940\n",
      "-----------------------\n"
     ]
    }
   ],
   "source": [
    "# List of classifiers to test\n",
    "classifiers = [\n",
    "    ('Logistic Regression', LogisticRegression()),\n",
    "    ('Decision Tree', DecisionTreeClassifier()),\n",
    "    ('Random Forest', RandomForestClassifier()),\n",
    "    ('KNN', KNeighborsClassifier(n_neighbors=5)),\n",
    "    ('Gaussion NB',GaussianNB()),\n",
    "    ('XGB',xgb.XGBClassifier())\n",
    "]\n",
    "\n",
    "# Iterate over each classifier and evaluate performance\n",
    "for clf_name, clf in classifiers:\n",
    "    # Perform cross-validation\n",
    "    scores = cross_val_score(clf, X_train, y_train, cv=5, scoring='accuracy')\n",
    "    \n",
    "    # Calculate average performance metrics\n",
    "    avg_accuracy = scores.mean()\n",
    "    avg_precision = cross_val_score(clf, X_train, y_train, cv=5, scoring='precision_macro').mean()\n",
    "    avg_recall = cross_val_score(clf, X_train, y_train, cv=5, scoring='recall_macro').mean()\n",
    "    \n",
    "    # Print the performance metrics\n",
    "    print(f'Classifier: {clf_name}')\n",
    "    print(f'Average Accuracy: {avg_accuracy:.4f}')\n",
    "    print(f'Average Precision: {avg_precision:.4f}')\n",
    "    print(f'Average Recall: {avg_recall:.4f}')\n",
    "    print('-----------------------')"
   ]
  },
  {
   "cell_type": "code",
   "execution_count": 49,
   "metadata": {},
   "outputs": [
    {
     "name": "stdout",
     "output_type": "stream",
     "text": [
      "Classification Report\n",
      "              precision    recall  f1-score   support\n",
      "\n",
      "           0       0.89      0.93      0.91      1593\n",
      "           1       0.92      0.88      0.90      1593\n",
      "\n",
      "    accuracy                           0.91      3186\n",
      "   macro avg       0.91      0.91      0.91      3186\n",
      "weighted avg       0.91      0.91      0.91      3186\n",
      "\n",
      "\n",
      "---------------------------------------------\n",
      "\n"
     ]
    },
    {
     "data": {
      "image/png": "[encoded data removed]",
      "text/plain": [
       "<Figure size 432x288 with 2 Axes>"
      ]
     },
     "metadata": {
      "needs_background": "light"
     },
     "output_type": "display_data"
    }
   ],
   "source": [
    "# Create an XGBClassifier model\n",
    "model = xgb.XGBClassifier()\n",
    "\n",
    "# Train the model\n",
    "model.fit(X_train, y_train)\n",
    "\n",
    "# Make predictions on the test set\n",
    "y_pred = model.predict(X_test)\n",
    "\n",
    "#Compute Accuracy\n",
    "evaluate_model(y_test,y_pred)"
   ]
  },
  {
   "cell_type": "code",
   "execution_count": null,
   "metadata": {},
   "outputs": [],
   "source": []
  }
 ],
 "metadata": {
  "kernelspec": {
   "display_name": "Python 3",
   "language": "python",
   "name": "python3"
  },
  "language_info": {
   "codemirror_mode": {
    "name": "ipython",
    "version": 3
   },
   "file_extension": ".py",
   "mimetype": "text/x-python",
   "name": "python",
   "nbconvert_exporter": "python",
   "pygments_lexer": "ipython3",
   "version": "3.8.5"
  }
 },
 "nbformat": 4,
 "nbformat_minor": 4
}
